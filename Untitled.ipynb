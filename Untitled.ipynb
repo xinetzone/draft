{
 "cells": [
  {
   "cell_type": "code",
   "execution_count": 1,
   "metadata": {},
   "outputs": [],
   "source": [
    "import sys\n",
    "sys.path.append('app')"
   ]
  },
  {
   "cell_type": "code",
   "execution_count": 2,
   "metadata": {},
   "outputs": [],
   "source": [
    "from tkinter import Tk, ttk\n",
    "\n",
    "from atom import Meta\n",
    "from creator import SelectorFrame"
   ]
  },
  {
   "cell_type": "code",
   "execution_count": 3,
   "metadata": {},
   "outputs": [],
   "source": [
    "root = Tk()\n",
    "meta = Meta(root, bg='gray')\n",
    "meta.draw_graph('line', [20, 20, 100, 100])\n",
    "selector = SelectorFrame(root)\n",
    "selector.layout()\n",
    "meta.pack(side='left', expand='yes', fill='both')\n",
    "selector.pack(side='right', expand='yes')\n",
    "#root.mainloop()"
   ]
  },
  {
   "cell_type": "code",
   "execution_count": 4,
   "metadata": {},
   "outputs": [
    {
     "name": "stdout",
     "output_type": "stream",
     "text": [
      "()\n",
      "('color', 'red')\n",
      "('color', 'blue')\n",
      "('color', 'black')\n",
      "('color', 'purple')\n",
      "('color', 'green')\n",
      "('color', 'skyblue')\n",
      "('color', 'yellow')\n",
      "('color', 'white')\n",
      "('color', 'pink')\n",
      "()\n",
      "('shape', 'rectangle')\n",
      "('shape', 'oval')\n",
      "('shape', 'line')\n",
      "('shape', 'oval_point')\n",
      "('shape', 'rectangle_point')\n"
     ]
    }
   ],
   "source": [
    "for item in selector.selector.find_all():\n",
    "    tags = selector.selector.gettags(item)\n",
    "    print(tags)"
   ]
  },
  {
   "cell_type": "code",
   "execution_count": null,
   "metadata": {},
   "outputs": [],
   "source": [
    "selector.selector.find_withtag('color')"
   ]
  },
  {
   "cell_type": "code",
   "execution_count": null,
   "metadata": {},
   "outputs": [],
   "source": [
    "selector.selector.addtag_above?"
   ]
  },
  {
   "cell_type": "code",
   "execution_count": null,
   "metadata": {},
   "outputs": [],
   "source": [
    "for item in selector.selector.find_withtag('graph'):\n",
    "    tags = selector.selector.gettags(item)\n",
    "    if 'point' in tags:\n",
    "        print(tags)"
   ]
  },
  {
   "cell_type": "code",
   "execution_count": null,
   "metadata": {},
   "outputs": [],
   "source": [
    "selector.selector.addtag_above?"
   ]
  },
  {
   "cell_type": "code",
   "execution_count": null,
   "metadata": {},
   "outputs": [],
   "source": [
    "selector.graph_type = 'oval_point'"
   ]
  },
  {
   "cell_type": "code",
   "execution_count": null,
   "metadata": {},
   "outputs": [],
   "source": [
    "selector.graph_type"
   ]
  },
  {
   "cell_type": "code",
   "execution_count": null,
   "metadata": {},
   "outputs": [],
   "source": [
    "from param import Param"
   ]
  },
  {
   "cell_type": "code",
   "execution_count": null,
   "metadata": {},
   "outputs": [],
   "source": [
    "class A:\n",
    "    graph_type = Param()\n",
    "    def __init__(self, graph_type):\n",
    "        self.graph_type = graph_type\n",
    "        \n",
    "    def update_value(self, value):\n",
    "        self.graph_type = value"
   ]
  },
  {
   "cell_type": "code",
   "execution_count": null,
   "metadata": {},
   "outputs": [],
   "source": [
    "self = A('oval')"
   ]
  },
  {
   "cell_type": "code",
   "execution_count": null,
   "metadata": {},
   "outputs": [],
   "source": [
    "self.graph_type = 'oval_point'"
   ]
  },
  {
   "cell_type": "code",
   "execution_count": null,
   "metadata": {},
   "outputs": [],
   "source": [
    "self.update_value('A')"
   ]
  },
  {
   "cell_type": "code",
   "execution_count": null,
   "metadata": {},
   "outputs": [],
   "source": [
    "self.graph_type"
   ]
  },
  {
   "cell_type": "code",
   "execution_count": null,
   "metadata": {},
   "outputs": [],
   "source": []
  }
 ],
 "metadata": {
  "kernelspec": {
   "display_name": "Python 3",
   "language": "python",
   "name": "python3"
  },
  "language_info": {
   "codemirror_mode": {
    "name": "ipython",
    "version": 3
   },
   "file_extension": ".py",
   "mimetype": "text/x-python",
   "name": "python",
   "nbconvert_exporter": "python",
   "pygments_lexer": "ipython3",
   "version": "3.7.4"
  }
 },
 "nbformat": 4,
 "nbformat_minor": 2
}
